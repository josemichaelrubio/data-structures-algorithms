{
 "cells": [
  {
   "cell_type": "markdown",
   "metadata": {},
   "source": [
    "# Data Structures\n",
    "\n",
    "A Data structure is a collection of values\n",
    "\n",
    "They can have relationships among them \n",
    "\n",
    "They can have funtions applied to them\n",
    "\n",
    "Each data structure is specialized and good at its own thing\n",
    "\n",
    "<https://en.wikipedia.org/wiki/List_of_data_structures>\n",
    "- like Arrays and Objects\n",
    "\n",
    "Things to know:\n",
    "1. How to build one\n",
    "2. how to use it -- This is the most important\n",
    "\n",
    "Important Data Structures:\n",
    "- Arrays\n",
    "- Stacks\n",
    "- Queues\n",
    "- Linked Lists\n",
    "- Trees\n",
    "- Tries\n",
    "- Graphs\n",
    "- Hash Tables\n"
   ]
  },
  {
   "cell_type": "markdown",
   "metadata": {},
   "source": [
    "## Arrays\n",
    "\n",
    "List vs Tuples"
   ]
  },
  {
   "cell_type": "markdown",
   "metadata": {},
   "source": [
    "### lists\n",
    "\n",
    "Python's calls Arrays `Lists`. They are Dynamic arrays\n",
    "\n",
    "Ordered, mutable sequences\n",
    "\n",
    "Great for general storage and manipulation.  Know list comprehensions, slicing, and common methods (append, insert, remove, pop, sort, reverse).  Often used for implementing other data structures.\n",
    "\n",
    "`[]`\n"
   ]
  },
  {
   "cell_type": "code",
   "execution_count": 60,
   "metadata": {},
   "outputs": [
    {
     "name": "stdout",
     "output_type": "stream",
     "text": [
      "[0, 1, 2, 3, 4, 5, 6, 7, 8, 9, 9]\n",
      "[0, 1, 1, 2, 3, 4, 5, 6, 7, 8, 9, 9]\n"
     ]
    },
    {
     "data": {
      "text/plain": [
       "9"
      ]
     },
     "execution_count": 60,
     "metadata": {},
     "output_type": "execute_result"
    }
   ],
   "source": [
    "my_list = [] # Empty List\n",
    "my_list = [1,2,3,\"hello\"] # List with inital elements\n",
    "my_list = list(range(10)) # [0, 1, 2, 3, 4]\n",
    "\n",
    "my_list.append(9) # Add to the end (O(1) amortized)\n",
    "print(my_list) \n",
    "my_list.insert(1, 1) # Insert at index 1 (O(n))\n",
    "print(my_list)\n",
    "my_list.pop() # Remove and return the last element (O(1))\n"
   ]
  },
  {
   "cell_type": "code",
   "execution_count": 61,
   "metadata": {},
   "outputs": [
    {
     "data": {
      "text/plain": [
       "1"
      ]
     },
     "execution_count": 61,
     "metadata": {},
     "output_type": "execute_result"
    }
   ],
   "source": [
    "my_list.pop(2)  # Remove and return element at index 2 (O(n))"
   ]
  },
  {
   "cell_type": "code",
   "execution_count": 62,
   "metadata": {},
   "outputs": [
    {
     "name": "stdout",
     "output_type": "stream",
     "text": [
      "1\n"
     ]
    }
   ],
   "source": [
    "element = my_list[1] # Access element at index 1 (O(1))\n",
    "print(element)"
   ]
  },
  {
   "cell_type": "code",
   "execution_count": 63,
   "metadata": {},
   "outputs": [],
   "source": [
    "if 109 in my_list: # Check if 5 is in the list (O(n)) \n",
    "    print(\"Found\")"
   ]
  },
  {
   "cell_type": "code",
   "execution_count": 64,
   "metadata": {},
   "outputs": [
    {
     "name": "stdout",
     "output_type": "stream",
     "text": [
      "[0, 1, 2, 3, 4, 5, 6, 7, 9]\n"
     ]
    }
   ],
   "source": [
    "my_list.remove(8) #removes the first matching value not the index (O(n))\n",
    "print(my_list)"
   ]
  },
  {
   "cell_type": "code",
   "execution_count": 65,
   "metadata": {},
   "outputs": [
    {
     "name": "stdout",
     "output_type": "stream",
     "text": [
      "[0, 2, 3, 4, 5, 6, 7, 9]\n"
     ]
    }
   ],
   "source": [
    "del my_list[1] #deletes element at specified index (O(n))\n",
    "print(my_list)"
   ]
  },
  {
   "cell_type": "code",
   "execution_count": 66,
   "metadata": {},
   "outputs": [
    {
     "name": "stdout",
     "output_type": "stream",
     "text": [
      "8\n"
     ]
    }
   ],
   "source": [
    "length = len(my_list) # Get the length of the list (O(1))\n",
    "print (length)"
   ]
  },
  {
   "cell_type": "code",
   "execution_count": 67,
   "metadata": {},
   "outputs": [
    {
     "name": "stdout",
     "output_type": "stream",
     "text": [
      "[0, 2, 3, 4, 5, 6, 7, 9]\n"
     ]
    }
   ],
   "source": [
    "my_list.sort() #sort the list in place(O(nlogn))\n",
    "print(my_list)"
   ]
  },
  {
   "cell_type": "code",
   "execution_count": 68,
   "metadata": {},
   "outputs": [
    {
     "name": "stdout",
     "output_type": "stream",
     "text": [
      "[0, 2, 3, 4, 5, 6, 7, 9]\n"
     ]
    }
   ],
   "source": [
    "new_list = sorted(my_list) #returns a new, sorted, list (O(nlogn))\n",
    "print(new_list)"
   ]
  },
  {
   "cell_type": "code",
   "execution_count": 69,
   "metadata": {},
   "outputs": [
    {
     "name": "stdout",
     "output_type": "stream",
     "text": [
      "[9, 7, 6, 5, 4, 3, 2, 0]\n"
     ]
    }
   ],
   "source": [
    "my_list.reverse() #reverses in place (O(n))\n",
    "print(my_list)"
   ]
  },
  {
   "cell_type": "code",
   "execution_count": 70,
   "metadata": {},
   "outputs": [
    {
     "name": "stdout",
     "output_type": "stream",
     "text": [
      "[7, 6, 5]\n",
      "[9, 7, 6]\n",
      "[2, 0]\n",
      "[9, 6, 4, 2]\n"
     ]
    }
   ],
   "source": [
    "# Slicing\n",
    "sub_list = my_list[1:4] # [1, 2, 3] (from index 1 up to, but not including, 4)\n",
    "print(sub_list)\n",
    "first_three = my_list[:3]  # [0, 1, 2] (from the beginning up to index 3\n",
    "print(first_three)\n",
    "last_two = my_list[-2:]  # [4, 5] (last two elements)\n",
    "print(last_two)\n",
    "every_other = my_list[::2] # [0, 2, 4] (every second element)\n",
    "print(every_other)\n",
    "reverse_list = my_list[::-1] # Reverse the list (creates a new list)"
   ]
  },
  {
   "cell_type": "markdown",
   "metadata": {},
   "source": [
    "### Tuples\n",
    "\n",
    "Similar to lists, but *immutable* = cannot be changed after creation\n",
    "\n",
    "`()`\n",
    "\n",
    " Often used for returning multiple values from a function."
   ]
  },
  {
   "cell_type": "code",
   "execution_count": 71,
   "metadata": {},
   "outputs": [
    {
     "name": "stdout",
     "output_type": "stream",
     "text": [
      "()\n",
      "(1, 2, 3)\n",
      "(1, 2, 3)\n",
      "(4,)\n",
      "2\n"
     ]
    }
   ],
   "source": [
    "empty_tuple = ()\n",
    "print(empty_tuple)\n",
    "\n",
    "my_tuple = (1, 2, 3)\n",
    "print(my_tuple)\n",
    "\n",
    "my_tuple = 1, 2, 3  # Parentheses are often optional\n",
    "print(my_tuple)\n",
    "\n",
    "single_element_tuple = (4,)  # Comma is needed for a single-element tuple!\n",
    "print(single_element_tuple)\n",
    "\n",
    "aa = (2) # because single () with , inside makes it an operation ()\n",
    "print(aa)"
   ]
  },
  {
   "cell_type": "markdown",
   "metadata": {},
   "source": [
    "## Dictionaries\n",
    "\n",
    "Pyton implementation of Hash Tables (Hash Maps)\n",
    "\n",
    "key-value pairs\n",
    "\n",
    "Extremely fast look ups\n",
    "\n",
    "Use them when you need to associate data or check for the presence of elements quickly.  Know how to iterate through keys, values, and items.\n",
    "\n",
    "`{}`"
   ]
  },
  {
   "cell_type": "code",
   "execution_count": 72,
   "metadata": {},
   "outputs": [
    {
     "name": "stdout",
     "output_type": "stream",
     "text": [
      "{}\n",
      "{'name': 'Alice', 'age': 30}\n",
      "{'name': 'Bob', 'age': 25}\n"
     ]
    }
   ],
   "source": [
    "# Creation\n",
    "my_dict = {} # empty Dictionary\n",
    "print(my_dict)\n",
    "\n",
    "my_dict = {\"name\" : \"Alice\" , \"age\" : 30 }\n",
    "print(my_dict)\n",
    "\n",
    "my_dict = dict(name=\"Bob\", age=25)\n",
    "print(my_dict)"
   ]
  },
  {
   "cell_type": "code",
   "execution_count": 73,
   "metadata": {},
   "outputs": [
    {
     "name": "stdout",
     "output_type": "stream",
     "text": [
      "{'name': 'Bob', 'age': 25, 'city': 'New York'}\n",
      "25\n",
      "812318\n",
      "Bob\n",
      "{'name': 'Bob', 'age': 812318}\n",
      "Unknown\n",
      "dict_keys(['name', 'age'])\n",
      "dict_values(['Bob', 812318])\n",
      "dict_items([('name', 'Bob'), ('age', 812318)])\n",
      "\n",
      "\n",
      "name Bob\n",
      "age 812318\n",
      "name Bob\n",
      "age 812318\n"
     ]
    }
   ],
   "source": [
    "# Key Operations\n",
    "my_dict[\"city\"] = \"New York\" # Add a new key-value pair\n",
    "print(my_dict)\n",
    "\n",
    "print(my_dict[\"age\"])\n",
    "\n",
    "my_dict[\"age\"] = 812318 # Update the value for an existing key\n",
    "print(my_dict[\"age\"])\n",
    "\n",
    "name = my_dict[\"name\"]      # Access the value associated with the key \"name\" (O(1) average)\n",
    "print(name)\n",
    "\n",
    "del my_dict[\"city\"]\n",
    "print(my_dict)\n",
    "\n",
    "if \"city\" in my_dict:\n",
    "    print(my_dict[\"city\"]) # Check if a key exists (O(1) average)\n",
    "\n",
    "value = my_dict.get(\"city\", \"Unknown\")  # Get with a default value if key doesn't exist\n",
    "print(value)\n",
    "\n",
    "keys = my_dict.keys()       # Get a view of the keys (O(1)) - returns a \"view object\"\n",
    "print(keys)\n",
    "\n",
    "values = my_dict.values()     # Get a view of the values (O(1)) - returns a \"view object\"\n",
    "print(values)\n",
    "\n",
    "items = my_dict.items()      # Get a view of (key, value) tuples (O(1)) - returns a \"view object\"\n",
    "print(items)\n",
    "\n",
    "print(\"\\n\")\n",
    "\n",
    "for key in my_dict:       # Iterate through the keys\n",
    "    print(key, my_dict[key])\n",
    "for key, value in my_dict.items():  # Iterate through key-value pairs\n",
    "    print(key, value)"
   ]
  },
  {
   "cell_type": "markdown",
   "metadata": {},
   "source": [
    "### OrderedDic()\n",
    "\n",
    "From the `Collections` module\n",
    "\n",
    "`OrderedDict()` Preserves the order of insertion. Useful when the order matters"
   ]
  },
  {
   "cell_type": "code",
   "execution_count": 74,
   "metadata": {},
   "outputs": [
    {
     "name": "stdout",
     "output_type": "stream",
     "text": [
      "OrderedDict({'a': 1, 'b': 2, 'c': 3})\n"
     ]
    }
   ],
   "source": [
    "from collections import OrderedDict\n",
    "ordered_dict = OrderedDict()\n",
    "ordered_dict['a'] = 1\n",
    "ordered_dict['b'] = 2\n",
    "ordered_dict['c'] = 3\n",
    "print(ordered_dict) # OrderedDict([('a', 1), ('b', 2), ('c', 3)])"
   ]
  },
  {
   "cell_type": "markdown",
   "metadata": {},
   "source": [
    "## Sets\n",
    "\n",
    "Unordered collections of unique elements.\n",
    "- Duplicates are ignored\n",
    "\n",
    "Implemented using hash tables, so membership testing `in` is very fast (O(1) Average)\n",
    "\n",
    "Useful for removing duplicates and efficient membership checking (O(1) on average).  Know set operations (union, intersection, difference).\n",
    "\n",
    "**Frozenset** = an immutable version of a set. Can be used as keys in dictionaries\n"
   ]
  },
  {
   "cell_type": "code",
   "execution_count": 75,
   "metadata": {},
   "outputs": [
    {
     "name": "stdout",
     "output_type": "stream",
     "text": [
      "{1, 2, 3, 4}\n",
      "{0, 2, 3, 4, 5, 6, 7, 9}\n"
     ]
    }
   ],
   "source": [
    "# ==Set Creation==\n",
    "\n",
    "my_set = {1,2,2,2,3,3,4} # {1,2,3} Duplicates are ignored\n",
    "print(my_set)\n",
    "\n",
    "my_set = set(my_list) # Create from a list\n",
    "print(my_set)\n",
    "\n",
    "empty_set = set() # Use set() to create an empty set; {} creates an empty dictionary!"
   ]
  },
  {
   "cell_type": "code",
   "execution_count": 76,
   "metadata": {},
   "outputs": [
    {
     "name": "stdout",
     "output_type": "stream",
     "text": [
      "{0, 2, 3, 4, 5, 6, 7, 9, 10}\n",
      "{0, 3, 4, 5, 6, 7, 9, 10}\n",
      "{0, 3, 4, 6, 7, 9, 10}\n",
      "Found\n",
      "{1, 2, 3, 4, 5}\n",
      "{3, 4}\n",
      "{1, 2}\n",
      "{1, 2, 5}\n"
     ]
    }
   ],
   "source": [
    "# ==Set Key Operations==\n",
    "\n",
    "my_set.add(10)\n",
    "print(my_set)\n",
    "\n",
    "my_set.remove(2)   # Remove an element (O(1) average). Raises KeyError if not found.\n",
    "print(my_set)\n",
    "\n",
    "my_set.discard(5)  # Remove an element if it exists (O(1) average).  No error if not found.\n",
    "print(my_set)\n",
    "\n",
    "if 3 in my_set:     # Check membership (O(1) average)\n",
    "    print(\"Found\")\n",
    "\n",
    "set1 = {1, 2, 3,4}\n",
    "set2 = {3, 4, 5}\n",
    "union = set1 | set2\n",
    "print(union)\n",
    "\n",
    "intersection = set1 & set2 # {3}, where they have matching numbers \n",
    "print(intersection)\n",
    "\n",
    "difference = set1 - set2   # {1, 2} (elements in set1 but not in set2)\n",
    "print(difference)\n",
    "\n",
    "symmetric_difference = set1 ^ set2  # {1, 2, 4, 5} (elements in either set, but not both)\n",
    "print(symmetric_difference)"
   ]
  },
  {
   "cell_type": "markdown",
   "metadata": {},
   "source": [
    "## Strings\n",
    "\n",
    "`str`\n",
    "\n",
    "\n"
   ]
  },
  {
   "cell_type": "code",
   "execution_count": 77,
   "metadata": {},
   "outputs": [],
   "source": [
    "# ==String Creation==\n",
    "my_string = \"Hello, world!\"\n",
    "my_string = 'Hello, world!' #single quotes are equivalent\n",
    "my_string = \"\"\"This is a\n",
    "multi-line string.\"\"\" #triple quotes for multiline"
   ]
  },
  {
   "cell_type": "code",
   "execution_count": 78,
   "metadata": {},
   "outputs": [],
   "source": [
    "# ==String Key Operations==\n",
    "char = my_string[0] #access by index (O(1))\n",
    "sub_string = my_string[7:12] #slicing (O(k) where k is length of slice)\n",
    "length = len(my_string) #length (O(1))\n",
    "if \"world\" in my_string: #substring check (O(n))\n",
    "    print(\"Found\")\n",
    "new_string = my_string + \" Goodbye!\" #concatenation (O(n+m))\n",
    "words = my_string.split() #split into words (O(n))\n",
    "joined_string = \" \".join(words) #join a list of strings (O(n))\n",
    "upper_case = my_string.upper()\n",
    "lower_case = my_string.lower()\n",
    "stripped_string = my_string.strip() #removes leading/trailing whitespace"
   ]
  },
  {
   "cell_type": "code",
   "execution_count": 79,
   "metadata": {},
   "outputs": [],
   "source": [
    "# ==String Formating==\n",
    "name = \"Alice\"\n",
    "age = 30\n",
    "#f-strings (most modern and readable)\n",
    "message = f\"My name is {name} and I am {age} years old.\"\n",
    "#str.format() method\n",
    "message = \"My name is {} and I am {} years old.\".format(name, age)\n",
    "#%-formatting (older style)\n",
    "message = \"My name is %s and I am %d years old.\" % (name, age)"
   ]
  },
  {
   "cell_type": "markdown",
   "metadata": {},
   "source": [
    "## Python's `Collections` Module \n",
    "\n",
    "The `collections` module provides specialized container datatypes that can be very helpful."
   ]
  },
  {
   "cell_type": "markdown",
   "metadata": {},
   "source": [
    "### `deque`\n",
    "\n",
    "`deque` is a double-ended Queue\n",
    "\n",
    "Optimized for fast appends and pops from both ends. \n",
    "\n",
    "Great for implementing *queues* and *stacks*"
   ]
  },
  {
   "cell_type": "code",
   "execution_count": 80,
   "metadata": {},
   "outputs": [
    {
     "name": "stdout",
     "output_type": "stream",
     "text": [
      "deque([1, 2, 3])\n"
     ]
    }
   ],
   "source": [
    "# ==deque examples==\n",
    "from collections import deque\n",
    "\n",
    "my_deque = deque([1,2,3])\n",
    "\n",
    "my_deque.append(4) # Add to the right (O(1))\n",
    "\n",
    "my_deque.appendleft(0) # Add to the left (O(1))\n",
    "\n",
    "right_element = my_deque.pop() # Remove from the right (O(1))\n",
    "left_element = my_deque.popleft()\n",
    "\n",
    "print(my_deque) # Remove from the left (O(1))"
   ]
  },
  {
   "cell_type": "markdown",
   "metadata": {},
   "source": [
    "### `Counter`\n",
    "\n",
    "A `dict` subclass for counting hashable objects\n",
    "\n",
    "Very useful for frequency counting problems"
   ]
  },
  {
   "cell_type": "code",
   "execution_count": 81,
   "metadata": {},
   "outputs": [
    {
     "name": "stdout",
     "output_type": "stream",
     "text": [
      "7\n",
      "[(3, 7), (4, 4)]\n"
     ]
    }
   ],
   "source": [
    "# ==Counter Examples== \n",
    "from collections import Counter\n",
    "\n",
    "my_list = [1, 2, 2, 3, 3, 3,3,3,3,3, 4, 4, 4, 4]\n",
    "\n",
    "counts = Counter(my_list) # {4: 4, 3: 7, 2: 2, 1: 1}\n",
    "\n",
    "print(counts[3]) # 7 (frequency of 3)\n",
    "\n",
    "most_common = counts.most_common(2) # [(3, 7), (4, 4)] (most common 2 elements)\n",
    "print(most_common)"
   ]
  },
  {
   "cell_type": "markdown",
   "metadata": {},
   "source": [
    "### `defaultdict`\n",
    "\n",
    "A `dict` subclass that calls on factory function to supply missing values\n",
    "\n",
    "It Avoids `KeyError` exception"
   ]
  },
  {
   "cell_type": "code",
   "execution_count": 82,
   "metadata": {},
   "outputs": [
    {
     "name": "stdout",
     "output_type": "stream",
     "text": [
      "defaultdict(<class 'int'>, {'apple': 3, 'banana': 2, 'orange': 1})\n",
      "defaultdict(<class 'list'>, {'a': [1, 3], 'b': [2]})\n"
     ]
    }
   ],
   "source": [
    "from collections import defaultdict\n",
    "\n",
    "# Using int as factory function for count\n",
    "word_count = defaultdict(int) #default is 0\n",
    "\n",
    "words = [\"apple\", \"banana\", \"apple\", \"orange\", \"banana\", \"apple\"]\n",
    "\n",
    "for word in words:\n",
    "    word_count[word] +=1\n",
    "print(word_count) #defaultdict(<class 'int'>, {'apple': 3, 'banana': 2, 'orange': 1})\n",
    "\n",
    "# Using List as factory function\n",
    "list_dict = defaultdict(list) # default value is an empty list\n",
    "list_dict[\"a\"].append(1)\n",
    "list_dict[\"b\"].append(2)\n",
    "list_dict[\"a\"].append(3)\n",
    "print(list_dict) #defaultdict(<class 'list'>, {'a': [1, 3], 'b': [2]})\n"
   ]
  },
  {
   "cell_type": "markdown",
   "metadata": {},
   "source": [
    "## Implementing Other Data Structures"
   ]
  },
  {
   "cell_type": "markdown",
   "metadata": {},
   "source": [
    "### Stacks\n",
    "\n",
    "Last in, First Out (LIFO)\n",
    "\n",
    "\n",
    "`deque` can be used\n",
    "\n",
    "Can be implemented using lists (`append` and `pop`) or `collections.deque`. \n",
    "\n",
    "Lists are usually sufficient for CodeSignal.\n",
    "\n",
    "Think of a stack of plates.  append (push) and pop are the key operations.  Can be implemented with lists.  Useful for problems involving backtracking, function call stacks, etc.\n"
   ]
  },
  {
   "cell_type": "markdown",
   "metadata": {},
   "source": [
    "### Queues\n",
    "\n",
    "First-In, First-Out (FIFO)\n",
    "\n",
    "\n",
    " Use `collections.deque` for optimal performance.  \n",
    " \n",
    " Lists *can* be used, but `pop(0)` is O(n).\n",
    "\n",
    "  Like a line at a store.  append (enqueue) and popleft (dequeue) from the collections.deque are efficient.  Use them for breadth-first search (BFS) and similar scenarios."
   ]
  },
  {
   "cell_type": "markdown",
   "metadata": {},
   "source": [
    "### Linked List\n",
    "\n",
    "Linear collection of data elements. Similar to Arrays BUT Linked list don't store elements in consecutive memory locations. This allows for flexibility in memory allocation\n",
    "\n",
    "\"Node\" is the basic building block. It contains:\n",
    "- Data: value\n",
    "- Pointer (or link): a reference to the next node in the sequence\n",
    "\n",
    "Types of Linked Lists:\n",
    "- **Singly Linked List**: Each node points only to the next node. Traversal is possible in one direction.\n",
    "- **Doubly Linked List**: Each node has pointers to both the next and the previous nodes, enabling bidirectional traversal.\n",
    "- **Circular Linked List**: The last node's pointer points back to the first node, creating a loop.\n",
    "\n",
    "#### Key Concepts:\n",
    "\n",
    "- **Head**: First node in the list. It's the entry point for traversing the list.\n",
    "- **Tail**: Last node. It has no next pointer (or it points to the head in a circular list).\n",
    "- **Traversal**: Visiting each node in the list in a specific order\n",
    "\n",
    "#### Advantages\n",
    "\n",
    "- **Efficient Insertion and Deletion**: Adding or removing elements at any position is generally faster compared to arrays, as it only involves changing *pointers*.\n",
    "- **Dynamic Size**: Linked lists can easily grow or shrink as needed, without requiring pre-allocation of memory.\n",
    "\n",
    "#### Disadvantages\n",
    "\n",
    "- **Memory Overhead**: Each node requires extra memory to store the pointer, which can be significant for large lists.\n",
    "- **Slower Access**: Accessing a specific element requires traversing the list from the head, making random access slower compared to arrays.\n",
    "\n",
    "#### Implementation\n",
    "\n",
    "Python *DOES NOT* have a built-in linked list type.\n",
    "\n",
    "You can implement linked lists using *classes* to represent nodes and the list itself.\n",
    "\n",
    "The `collections.deque` class can be used as a double-ended queue, which is implemented using a *doubly linked list*.\n",
    "\n",
    "You'll often need to define your own `Node` class\n",
    "\n",
    "#### Use Cases\n",
    "\n",
    "- Implementing stacks and queues\n",
    "- Representing lists of items when *frequent insertions and deletions* are needed. Good for frequently insert or delete elements at arbitrary positions.\n",
    "- When you *don't need frequent random access to elements*. Note, this is not inserting or deleting, it's access\n",
    "- Managing *dynamic memory allocation*, good when size of data is constantly changing\n",
    "- Implementing graphs\n",
    "\n",
    "#### Example:"
   ]
  },
  {
   "cell_type": "code",
   "execution_count": 83,
   "metadata": {},
   "outputs": [],
   "source": [
    "## ==Node Class for Linked List==\n",
    "\n",
    "class Node:\n",
    "    def __init__(self, data):\n",
    "        self.data = data\n",
    "        self.next = None # NOTE: only this statement for singly-linked list\n",
    "        # self.prev = None # NOTE: Add this for doubly-linked list\n",
    "\n",
    "# Example usage\n",
    "\n",
    "head = Node(1)\n",
    "head.next = Node(2)\n",
    "head.next.next = Node(3)"
   ]
  },
  {
   "cell_type": "markdown",
   "metadata": {},
   "source": [
    "### Binary Trees\n",
    "\n",
    "\n",
    "**Hierarchical data** non-linear data structure consisting of nodes connected by edges. Each node contains data, and the topmost node is called the root. Nodes without children are called leaves.  \n",
    "\n",
    "#### Key Features\n",
    "- Hierarchical Structure: Data is organized in a parent-child relationship, resembling a tree with branches.\\\n",
    "- Nodes and Edges: Nodes store data, and edges represent the connections between nodes.\n",
    "- Root Node: The topmost node from which the tree originates.\n",
    "- Leaf Nodes: Nodes without any children.\n",
    "\n",
    "#### Common Tree Types\n",
    "\n",
    "- Binary Tree: Each node has at most two children (left and right).\n",
    "- Binary Search Tree (BST): A binary tree where the left subtree of a node contains only nodes with values less than the node's value, and the right subtree contains only nodes with values greater than the node's value.\n",
    "- N-ary Tree: Each node can have any number of children.\n",
    "\n",
    "\n",
    "\n",
    "#### Use Cases\n",
    "\n",
    "- Representing Hierarchical Data: Family trees, organizational charts, file systems.\n",
    "- Efficient Searching and Sorting: Binary search trees enable fast data retrieval and sorted order traversal.\n",
    "- Decision-Making: Decision trees are used in machine learning for classification tasks.\n",
    "- Syntax Trees: Representing the structure of code in compilers and interpreters.\n",
    "- Game AI: Game trees are used to explore possible moves and strategies.\n",
    "- Machine Learning: Decision trees, random forests\n",
    "- Databases: Indexing, query optimization\n",
    "- Networking: Routing algorithms, network protocols\n",
    "\n",
    "#### Implementation\n",
    "\n",
    "Python doesn't have a built-in tree data structure, but you can create one using classes to represent nodes and their connections. Libraries like `anytree` and `bigtree` provide additional functionalities for tree manipulation and visualization.\n",
    "\n",
    "##### Tree Traversal\n",
    "\n",
    "There are different ways to visit all the nodes in a tree, such as:\n",
    "- **Depth-First Search (DFS)**: Explores as far as possible along each branch before backtracking. Like reaching as far as your can through one branch.\n",
    "- **Breadth-First Search (BFS)** : Visits all the neighbor nodes at the current level before moving to the next level. Like clear the nodes level by level\n",
    "\n",
    "#### Tree Balancing\n",
    "\n",
    "In some cases, it's important to keep the tree balanced to ensure efficient operations. Balanced trees have a height that is roughly proportional to the logarithm of the number of nodes.\n",
    "\n",
    "#### Libraries & Tools\n",
    "\n",
    "Python offers several libraries to work with trees:\n",
    "- `anytree`: Provides a simple and intuitive way to create and manipulate trees.\n",
    "- `bigtree`: Offers more advanced features for tree manipulation and visualization.\n",
    "\n",
    "#### For Assessments\n",
    "\n",
    "Know the terminology (root, leaf, parent, child, subtree).  Practice tree traversals (inorder, preorder, postorder) recursively and iteratively.  Often used in search, sorting, and representing hierarchical data.\n",
    "\n",
    "#### Example"
   ]
  },
  {
   "cell_type": "code",
   "execution_count": 84,
   "metadata": {},
   "outputs": [],
   "source": [
    "# ==TreeNode class for binary tree==\n",
    "\n",
    "class TreeNode:\n",
    "    def __init__(self, val=0, left=None, right=None):\n",
    "        self.val = val\n",
    "        self.left = left\n",
    "        self.right = right\n",
    "\n",
    "#Example \n",
    "\n",
    "root = TreeNode(1)\n",
    "root.left= TreeNode(2)\n",
    "root.right= TreeNode(3)\n",
    "root.left.left = TreeNode(4)\n",
    "root.left.right = TreeNode(5)"
   ]
  },
  {
   "cell_type": "markdown",
   "metadata": {},
   "source": [
    "### Graphs\n",
    "\n",
    "You'll typically represent graphs using adjacency lists (dictionaries) or adjacency matrices (lists of lists).\n",
    "\n",
    "Networks of nodes (vertices) connected by edges.  Represent relationships between entities.  Know common graph representations (adjacency matrix, adjacency list).  Practice graph traversals (BFS, DFS) and algorithms like Dijkstra's (shortest path)."
   ]
  },
  {
   "cell_type": "code",
   "execution_count": 85,
   "metadata": {},
   "outputs": [],
   "source": [
    "# Adjacency List (using a dict)\n",
    "\n",
    "graph = {\n",
    "    \"A\" : [\"B\", \"C\"],\n",
    "    \"B\": [\"A\", \"D\", \"E\"],\n",
    "    \"C\": [\"A\", \"F\"],\n",
    "    \"D\": [\"B\"],\n",
    "    \"E\": [\"B\", \"F\"],\n",
    "    \"F\": [\"C\", \"E\"],\n",
    "}"
   ]
  },
  {
   "cell_type": "code",
   "execution_count": 86,
   "metadata": {},
   "outputs": [],
   "source": [
    "    # Adjacency Matrix (using a list of lists)\n",
    "    # 0 means no edge, 1 means there is an edge\n",
    "    # This represents an undirected graph\n",
    "graph_matrix = [\n",
    "    [0, 1, 1, 0, 0, 0],  # A\n",
    "    [1, 0, 0, 1, 1, 0],  # B\n",
    "    [1, 0, 0, 0, 0, 1],  # C\n",
    "    [0, 1, 0, 0, 0, 0],  # D\n",
    "    [0, 1, 0, 0, 0, 1],  # E\n",
    "    [0, 0, 1, 0, 1, 0],  # F\n",
    "]"
   ]
  },
  {
   "cell_type": "markdown",
   "metadata": {},
   "source": [
    "### `heapq`\n",
    "\n",
    "Heaps for Python, uses the `heapq` module\n",
    "\n",
    "It provides an implementation of min-heap"
   ]
  },
  {
   "cell_type": "code",
   "execution_count": 87,
   "metadata": {},
   "outputs": [],
   "source": [
    "# heapq\n",
    "\n",
    "import heapq\n",
    "\n",
    "my_heap = [3, 1, 4, 1, 5, 9, 2, 6]\n",
    "heapq.heapify(my_heap)  # Transform the list into a heap, in-place (O(n))\n",
    "heapq.heappush(my_heap, 0)  # Push an element (O(log n))\n",
    "smallest = heapq.heappop(my_heap)  # Pop the smallest element (O(log n))\n",
    "#For max heap, you can insert the negative of numbers, then take negative again when retrieving."
   ]
  },
  {
   "cell_type": "markdown",
   "metadata": {},
   "source": [
    "### Tries\n",
    "\n",
    "A trie, also known as a prefix tree, is a tree-like data structure that is used for storing a dynamic set or associative array where the keys are usually strings.1 It is a specialized data structure that is particularly *useful when dealing with strings and performing operations* like:\n",
    "- prefix searching, \n",
    "- autocompletion,\n",
    "- spell checking.\n",
    "- IP routing\n",
    "- Strong Dictionaries\n",
    "\n",
    "#### Structure\n",
    "\n",
    "- Node: Each node in a trie represents a character or a part of a string.\n",
    "- Rooe: The root node of the trie is an empty node.\n",
    "- Edges: Each edge connecting two nodes represents a character.\n",
    "- Path: A path from the root to a node represents a *prefix* or a complete string\n",
    "- End of Word: Nodes that represent the end of a complete word are often marked in some way (e.g., with a boolean flag).\n",
    "\n",
    "#### Key Features & Benefits:\n",
    "\n",
    "- **Efficient Prefix Searching**: Tries excel at finding all strings with a given prefix. Traversing the trie along the path of the prefix leads to the node representing the end of the prefix, from which all complete words with that prefix can be easily retrieved.\n",
    "- **Space Efficiency:** Tries can be more space-efficient than other data structures when storing a large number of strings with *common prefixes* because they share the common parts of the strings.\n",
    "- **Ordered Data:** Tries naturally store strings in *lexicographical* order.\n",
    "\n",
    "#### Time Complexity ####\n",
    "\n",
    "- **Insertion:** O(L), where L is the length of the word.\n",
    "- **Search:** O(L), where L is the length of the word.\n",
    "- **Prefix Search:** O(P), where P is the length of the prefix.\n",
    "\n",
    "#### Space Complexity #### \n",
    "\n",
    "- The space complexity of a trie depends on the number of words and the length of the words. In the worst case, it can be O(N * L), where N is the number of words and L is the average length of the words. However, in practice, it is often much less due to shared prefixes.\n",
    "\n",
    "#### Additional Notes ####\n",
    "\n",
    "- Tries can be implemented using arrays or dictionaries to store the children of a node. Dictionaries are more common for alphabets with a large number of characters.\n",
    "- There are variations of tries, such as compressed tries and ternary search tries, that can further improve space efficiency and performance.\n",
    "\n",
    "#### Implementation:\n",
    "\n",
    "`TrieNode` represents a node in the trie with a dictionary to store its children and a flag to mark the end of a word. The `Trie` class provides methods to insert words, search for words, and check for prefixes.\n",
    "\n",
    "#### Example"
   ]
  },
  {
   "cell_type": "code",
   "execution_count": 88,
   "metadata": {},
   "outputs": [
    {
     "name": "stdout",
     "output_type": "stream",
     "text": [
      "True\n",
      "True\n",
      "False\n",
      "False\n",
      "True\n",
      "True\n",
      "False\n",
      "False\n",
      "True\n",
      "True\n",
      "False\n"
     ]
    }
   ],
   "source": [
    "class TrieNode:\n",
    "    def __init__(self):\n",
    "        self.children = {}  # Dictionary: key=character, value=TrieNode\n",
    "        self.is_end_of_word = False  # True if this node marks the end of a word\n",
    "\n",
    "\n",
    "class Trie:\n",
    "    def __init__(self):\n",
    "        self.root = TrieNode()\n",
    "\n",
    "    def insert(self, word: str) -> None:\n",
    "        node = self.root\n",
    "        for char in word:\n",
    "            if char not in node.children:\n",
    "                node.children[char] = TrieNode()\n",
    "            node = node.children[char]\n",
    "        node.is_end_of_word = True\n",
    "\n",
    "    def search(self, word: str) -> bool:\n",
    "        node = self.root\n",
    "        for char in word:\n",
    "            if char not in node.children:\n",
    "                return False\n",
    "            node = node.children[char]\n",
    "        return node.is_end_of_word  # Check if it's a complete word\n",
    "\n",
    "    def startsWith(self, prefix: str) -> bool:\n",
    "        node = self.root\n",
    "        for char in prefix:\n",
    "            if char not in node.children:\n",
    "                return False\n",
    "            node = node.children[char]\n",
    "        return True  # If we get through the prefix, it exists\n",
    "\n",
    "    def delete(self, word: str) -> None:\n",
    "        \"\"\"\n",
    "        Deletes a word from the Trie.  This is more complex than insert/search\n",
    "        because we need to handle cases where deleting a word might require\n",
    "        removing nodes (if they are no longer part of any other word).\n",
    "        \"\"\"\n",
    "        def _delete_recursive(node, word, index):\n",
    "            if index == len(word):\n",
    "                # Reached the end of the word\n",
    "                if not node.is_end_of_word:\n",
    "                    return False  # Word wasn't in the trie\n",
    "                node.is_end_of_word = False  # Unmark as end of word\n",
    "                return len(node.children) == 0  # True if node has no children\n",
    "\n",
    "            char = word[index]\n",
    "            if char not in node.children:\n",
    "                return False  # Word not in trie\n",
    "\n",
    "            should_delete_child = _delete_recursive(node.children[char], word, index + 1)\n",
    "\n",
    "            if should_delete_child:\n",
    "                del node.children[char]\n",
    "                # Check if *this* node can now be deleted\n",
    "                return len(node.children) == 0 and not node.is_end_of_word\n",
    "            return False\n",
    "        \n",
    "        _delete_recursive(self.root, word, 0)\n",
    "\n",
    "\n",
    "# Example Usage\n",
    "trie = Trie()\n",
    "trie.insert(\"apple\")\n",
    "trie.insert(\"app\")\n",
    "trie.insert(\"banana\")\n",
    "\n",
    "print(trie.search(\"apple\"))  # True\n",
    "print(trie.search(\"app\"))  # True\n",
    "print(trie.search(\"appl\"))  # False\n",
    "print(trie.search(\"ban\"))  # False\n",
    "print(trie.startsWith(\"app\"))  # True\n",
    "print(trie.startsWith(\"ban\"))  # True\n",
    "print(trie.startsWith(\"xyz\"))  # False\n",
    "\n",
    "trie.delete(\"app\")\n",
    "print(trie.search(\"app\"))  # False\n",
    "print(trie.search(\"apple\"))  # True\n",
    "print(trie.startsWith(\"app\")) #True\n",
    "trie.delete(\"apple\")\n",
    "print(trie.startsWith(\"app\")) #False"
   ]
  }
 ],
 "metadata": {
  "kernelspec": {
   "display_name": "d-s-a",
   "language": "python",
   "name": "python3"
  },
  "language_info": {
   "codemirror_mode": {
    "name": "ipython",
    "version": 3
   },
   "file_extension": ".py",
   "mimetype": "text/x-python",
   "name": "python",
   "nbconvert_exporter": "python",
   "pygments_lexer": "ipython3",
   "version": "3.12.7"
  }
 },
 "nbformat": 4,
 "nbformat_minor": 2
}
