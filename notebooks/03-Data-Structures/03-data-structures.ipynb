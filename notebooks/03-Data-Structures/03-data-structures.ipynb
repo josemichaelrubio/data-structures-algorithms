{
 "cells": [
  {
   "cell_type": "markdown",
   "metadata": {},
   "source": [
    "# Data Structures\n",
    "\n",
    "A Data structure is a collection of values\n",
    "\n",
    "They can have relationships among them \n",
    "\n",
    "They can have funtions applied to them\n",
    "\n",
    "Each data structure is specialized and good at its own thing\n",
    "\n",
    "<https://en.wikipedia.org/wiki/List_of_data_structures>\n",
    "- like Arrays and Objects\n",
    "\n",
    "Things to know:\n",
    "1. How to build one\n",
    "2. how to use it -- This is the most important\n",
    "\n",
    "Important Data Structures:\n",
    "- Arrays\n",
    "- Stacks\n",
    "- Queues\n",
    "- Linked Lists\n",
    "- Trees\n",
    "- Tries\n",
    "- Graphs\n",
    "- Hash Tables\n"
   ]
  },
  {
   "cell_type": "markdown",
   "metadata": {},
   "source": [
    "## Arrays\n",
    "\n",
    "List vs Tuples"
   ]
  },
  {
   "cell_type": "markdown",
   "metadata": {},
   "source": [
    "### lists\n",
    "\n",
    "Python's calls Arrays `Lists`. They are Dynamic arrays\n",
    "\n",
    "`[]`\n"
   ]
  },
  {
   "cell_type": "code",
   "execution_count": 57,
   "metadata": {},
   "outputs": [
    {
     "name": "stdout",
     "output_type": "stream",
     "text": [
      "[0, 1, 2, 3, 4, 5, 6, 7, 8, 9, 9]\n",
      "[0, 1, 1, 2, 3, 4, 5, 6, 7, 8, 9, 9]\n"
     ]
    },
    {
     "data": {
      "text/plain": [
       "9"
      ]
     },
     "execution_count": 57,
     "metadata": {},
     "output_type": "execute_result"
    }
   ],
   "source": [
    "my_list = [] # Empty List\n",
    "my_list = [1,2,3,\"hello\"] # List with inital elements\n",
    "my_list = list(range(10)) # [0, 1, 2, 3, 4]\n",
    "\n",
    "my_list.append(9) # Add to the end (O(1) amortized)\n",
    "print(my_list) \n",
    "my_list.insert(1, 1) # Insert at index 1 (O(n))\n",
    "print(my_list)\n",
    "my_list.pop() # Remove and return the last element (O(1))\n"
   ]
  },
  {
   "cell_type": "code",
   "execution_count": 58,
   "metadata": {},
   "outputs": [
    {
     "data": {
      "text/plain": [
       "1"
      ]
     },
     "execution_count": 58,
     "metadata": {},
     "output_type": "execute_result"
    }
   ],
   "source": [
    "my_list.pop(2)  # Remove and return element at index 2 (O(n))"
   ]
  },
  {
   "cell_type": "code",
   "execution_count": 59,
   "metadata": {},
   "outputs": [
    {
     "name": "stdout",
     "output_type": "stream",
     "text": [
      "1\n"
     ]
    }
   ],
   "source": [
    "element = my_list[1] # Access element at index 1 (O(1))\n",
    "print(element)"
   ]
  },
  {
   "cell_type": "code",
   "execution_count": 60,
   "metadata": {},
   "outputs": [],
   "source": [
    "if 109 in my_list: # Check if 5 is in the list (O(n)) \n",
    "    print(\"Found\")"
   ]
  },
  {
   "cell_type": "code",
   "execution_count": 61,
   "metadata": {},
   "outputs": [
    {
     "name": "stdout",
     "output_type": "stream",
     "text": [
      "[0, 1, 2, 3, 4, 5, 6, 7, 9]\n"
     ]
    }
   ],
   "source": [
    "my_list.remove(8) #removes the first matching value not the index (O(n))\n",
    "print(my_list)"
   ]
  },
  {
   "cell_type": "code",
   "execution_count": 62,
   "metadata": {},
   "outputs": [
    {
     "name": "stdout",
     "output_type": "stream",
     "text": [
      "[0, 2, 3, 4, 5, 6, 7, 9]\n"
     ]
    }
   ],
   "source": [
    "del my_list[1] #deletes element at specified index (O(n))\n",
    "print(my_list)"
   ]
  },
  {
   "cell_type": "code",
   "execution_count": 63,
   "metadata": {},
   "outputs": [
    {
     "name": "stdout",
     "output_type": "stream",
     "text": [
      "8\n"
     ]
    }
   ],
   "source": [
    "length = len(my_list) # Get the length of the list (O(1))\n",
    "print (length)"
   ]
  },
  {
   "cell_type": "code",
   "execution_count": 64,
   "metadata": {},
   "outputs": [
    {
     "name": "stdout",
     "output_type": "stream",
     "text": [
      "[0, 2, 3, 4, 5, 6, 7, 9]\n"
     ]
    }
   ],
   "source": [
    "my_list.sort() #sort the list in place(O(nlogn))\n",
    "print(my_list)"
   ]
  },
  {
   "cell_type": "code",
   "execution_count": 65,
   "metadata": {},
   "outputs": [
    {
     "name": "stdout",
     "output_type": "stream",
     "text": [
      "[0, 2, 3, 4, 5, 6, 7, 9]\n"
     ]
    }
   ],
   "source": [
    "new_list = sorted(my_list) #returns a new, sorted, list (O(nlogn))\n",
    "print(new_list)"
   ]
  },
  {
   "cell_type": "code",
   "execution_count": 66,
   "metadata": {},
   "outputs": [
    {
     "name": "stdout",
     "output_type": "stream",
     "text": [
      "[9, 7, 6, 5, 4, 3, 2, 0]\n"
     ]
    }
   ],
   "source": [
    "my_list.reverse() #reverses in place (O(n))\n",
    "print(my_list)"
   ]
  },
  {
   "cell_type": "code",
   "execution_count": 67,
   "metadata": {},
   "outputs": [
    {
     "name": "stdout",
     "output_type": "stream",
     "text": [
      "[7, 6, 5]\n",
      "[9, 7, 6]\n",
      "[2, 0]\n",
      "[9, 6, 4, 2]\n"
     ]
    }
   ],
   "source": [
    "# Slicing\n",
    "sub_list = my_list[1:4] # [1, 2, 3] (from index 1 up to, but not including, 4)\n",
    "print(sub_list)\n",
    "first_three = my_list[:3]  # [0, 1, 2] (from the beginning up to index 3\n",
    "print(first_three)\n",
    "last_two = my_list[-2:]  # [4, 5] (last two elements)\n",
    "print(last_two)\n",
    "every_other = my_list[::2] # [0, 2, 4] (every second element)\n",
    "print(every_other)\n",
    "reverse_list = my_list[::-1] # Reverse the list (creates a new list)"
   ]
  },
  {
   "cell_type": "markdown",
   "metadata": {},
   "source": [
    "### Tuples\n",
    "\n",
    "Similar to lists, but *immutable* = cannot be changed after creation\n",
    "\n",
    "`()`\n",
    "\n"
   ]
  },
  {
   "cell_type": "code",
   "execution_count": 68,
   "metadata": {},
   "outputs": [
    {
     "name": "stdout",
     "output_type": "stream",
     "text": [
      "()\n",
      "(1, 2, 3)\n",
      "(1, 2, 3)\n",
      "(4,)\n",
      "2\n"
     ]
    }
   ],
   "source": [
    "empty_tuple = ()\n",
    "print(empty_tuple)\n",
    "my_tuple = (1, 2, 3)\n",
    "print(my_tuple)\n",
    "my_tuple = 1, 2, 3  # Parentheses are often optional\n",
    "print(my_tuple)\n",
    "single_element_tuple = (4,)  # Comma is needed for a single-element tuple!\n",
    "print(single_element_tuple)\n",
    "aa = (2) # because single () with , inside makes it an operation ()\n",
    "print(aa)"
   ]
  },
  {
   "cell_type": "markdown",
   "metadata": {},
   "source": [
    "## Dictionaries\n",
    "\n",
    "Pyton implementation of Hash Tables (Hash Map)\n",
    "\n",
    "`{}`"
   ]
  },
  {
   "cell_type": "code",
   "execution_count": 69,
   "metadata": {},
   "outputs": [
    {
     "name": "stdout",
     "output_type": "stream",
     "text": [
      "{}\n",
      "{'name': 'Alice', 'age': 30}\n",
      "{'name': 'Bob', 'age': 25}\n"
     ]
    }
   ],
   "source": [
    "# Creation\n",
    "my_dict = {} # empty Dictionary\n",
    "print(my_dict)\n",
    "my_dict = {\"name\" : \"Alice\" , \"age\" : 30 }\n",
    "print(my_dict)\n",
    "my_dict = dict(name=\"Bob\", age=25)\n",
    "print(my_dict)"
   ]
  },
  {
   "cell_type": "code",
   "execution_count": null,
   "metadata": {},
   "outputs": [
    {
     "name": "stdout",
     "output_type": "stream",
     "text": [
      "{'name': 'Bob', 'age': 25, 'city': 'New York'}\n",
      "25\n",
      "812318\n",
      "Bob\n",
      "{'name': 'Bob', 'age': 812318}\n",
      "Unknown\n",
      "dict_keys(['name', 'age'])\n",
      "dict_values(['Bob', 812318])\n",
      "dict_items([('name', 'Bob'), ('age', 812318)])\n",
      "\n",
      "\n",
      "name Bob\n",
      "age 812318\n",
      "name Bob\n",
      "age 812318\n"
     ]
    }
   ],
   "source": [
    "# Key Operations\n",
    "my_dict[\"city\"] = \"New York\" # Add a new key-value pair\n",
    "print(my_dict)\n",
    "\n",
    "print(my_dict[\"age\"])\n",
    "\n",
    "my_dict[\"age\"] = 812318 # Update the value for an existing key\n",
    "print(my_dict[\"age\"])\n",
    "\n",
    "name = my_dict[\"name\"]      # Access the value associated with the key \"name\" (O(1) average)\n",
    "print(name)\n",
    "\n",
    "del my_dict[\"city\"]\n",
    "print(my_dict)\n",
    "\n",
    "if \"city\" in my_dict:\n",
    "    print(my_dict[\"city\"]) # Check if a key exists (O(1) average)\n",
    "\n",
    "value = my_dict.get(\"city\", \"Unknown\")  # Get with a default value if key doesn't exist\n",
    "print(value)\n",
    "\n",
    "keys = my_dict.keys()       # Get a view of the keys (O(1)) - returns a \"view object\"\n",
    "print(keys)\n",
    "\n",
    "values = my_dict.values()     # Get a view of the values (O(1)) - returns a \"view object\"\n",
    "print(values)\n",
    "\n",
    "items = my_dict.items()      # Get a view of (key, value) tuples (O(1)) - returns a \"view object\"\n",
    "print(items)\n",
    "\n",
    "print(\"\\n\")\n",
    "\n",
    "for key in my_dict:       # Iterate through the keys\n",
    "    print(key, my_dict[key])\n",
    "for key, value in my_dict.items():  # Iterate through key-value pairs\n",
    "    print(key, value)"
   ]
  },
  {
   "cell_type": "markdown",
   "metadata": {},
   "source": [
    "### OrderedDic()\n",
    "\n",
    "From the `Collections` module\n",
    "\n",
    "`OrderedDict()` Preserves the order of insertion. Useful when the order matters"
   ]
  },
  {
   "cell_type": "code",
   "execution_count": 71,
   "metadata": {},
   "outputs": [
    {
     "name": "stdout",
     "output_type": "stream",
     "text": [
      "OrderedDict({'a': 1, 'b': 2, 'c': 3})\n"
     ]
    }
   ],
   "source": [
    "from collections import OrderedDict\n",
    "ordered_dict = OrderedDict()\n",
    "ordered_dict['a'] = 1\n",
    "ordered_dict['b'] = 2\n",
    "ordered_dict['c'] = 3\n",
    "print(ordered_dict) # OrderedDict([('a', 1), ('b', 2), ('c', 3)])"
   ]
  },
  {
   "cell_type": "markdown",
   "metadata": {},
   "source": [
    "## Sets\n",
    "\n",
    "Unordered collections of unique elements.\n",
    "- Duplicates are ignored\n",
    "\n",
    "Implemented using hash tables, so membership testing `in` is very fast (O(1) Average)\n",
    "\n",
    "**Frozenset** = an immutable version of a set. Can be used as keys in dictionaries\n"
   ]
  },
  {
   "cell_type": "code",
   "execution_count": null,
   "metadata": {},
   "outputs": [
    {
     "name": "stdout",
     "output_type": "stream",
     "text": [
      "{1, 2, 3, 4}\n",
      "{0, 2, 3, 4, 5, 6, 7, 9}\n"
     ]
    }
   ],
   "source": [
    "# ==Set Creation==\n",
    "\n",
    "my_set = {1,2,2,2,3,3,4} # {1,2,3} Duplicates are ignored\n",
    "print(my_set)\n",
    "\n",
    "my_set = set(my_list) # Create from a list\n",
    "print(my_set)\n",
    "\n",
    "empty_set = set() # Use set() to create an empty set; {} creates an empty dictionary!"
   ]
  },
  {
   "cell_type": "code",
   "execution_count": null,
   "metadata": {},
   "outputs": [
    {
     "name": "stdout",
     "output_type": "stream",
     "text": [
      "{0, 2, 3, 4, 5, 6, 7, 9, 10}\n",
      "{0, 3, 4, 5, 6, 7, 9, 10}\n",
      "{0, 3, 4, 6, 7, 9, 10}\n",
      "Found\n",
      "{1, 2, 3, 4, 5}\n",
      "{3, 4}\n",
      "{1, 2}\n",
      "{1, 2, 5}\n"
     ]
    }
   ],
   "source": [
    "# ==Set Key Operations==\n",
    "\n",
    "my_set.add(10)\n",
    "print(my_set)\n",
    "\n",
    "my_set.remove(2)   # Remove an element (O(1) average). Raises KeyError if not found.\n",
    "print(my_set)\n",
    "\n",
    "my_set.discard(5)  # Remove an element if it exists (O(1) average).  No error if not found.\n",
    "print(my_set)\n",
    "\n",
    "if 3 in my_set:     # Check membership (O(1) average)\n",
    "    print(\"Found\")\n",
    "\n",
    "set1 = {1, 2, 3,4}\n",
    "set2 = {3, 4, 5}\n",
    "union = set1 | set2\n",
    "print(union)\n",
    "\n",
    "intersection = set1 & set2 # {3}, where they have matching numbers \n",
    "print(intersection)\n",
    "\n",
    "difference = set1 - set2   # {1, 2} (elements in set1 but not in set2)\n",
    "print(difference)\n",
    "\n",
    "symmetric_difference = set1 ^ set2  # {1, 2, 4, 5} (elements in either set, but not both)\n",
    "print(symmetric_difference)"
   ]
  },
  {
   "cell_type": "markdown",
   "metadata": {},
   "source": [
    "## Strings\n",
    "\n",
    "`str`\n",
    "\n",
    "\n"
   ]
  },
  {
   "cell_type": "code",
   "execution_count": null,
   "metadata": {},
   "outputs": [],
   "source": [
    "# ==String Creation==\n",
    "my_string = \"Hello, world!\"\n",
    "my_string = 'Hello, world!' #single quotes are equivalent\n",
    "my_string = \"\"\"This is a\n",
    "multi-line string.\"\"\" #triple quotes for multiline"
   ]
  },
  {
   "cell_type": "code",
   "execution_count": null,
   "metadata": {},
   "outputs": [],
   "source": [
    "# ==String Key Operations==\n",
    "char = my_string[0] #access by index (O(1))\n",
    "sub_string = my_string[7:12] #slicing (O(k) where k is length of slice)\n",
    "length = len(my_string) #length (O(1))\n",
    "if \"world\" in my_string: #substring check (O(n))\n",
    "    print(\"Found\")\n",
    "new_string = my_string + \" Goodbye!\" #concatenation (O(n+m))\n",
    "words = my_string.split() #split into words (O(n))\n",
    "joined_string = \" \".join(words) #join a list of strings (O(n))\n",
    "upper_case = my_string.upper()\n",
    "lower_case = my_string.lower()\n",
    "stripped_string = my_string.strip() #removes leading/trailing whitespace"
   ]
  },
  {
   "cell_type": "code",
   "execution_count": null,
   "metadata": {},
   "outputs": [],
   "source": [
    "# ==String Formating==\n",
    "name = \"Alice\"\n",
    "age = 30\n",
    "#f-strings (most modern and readable)\n",
    "message = f\"My name is {name} and I am {age} years old.\"\n",
    "#str.format() method\n",
    "message = \"My name is {} and I am {} years old.\".format(name, age)\n",
    "#%-formatting (older style)\n",
    "message = \"My name is %s and I am %d years old.\" % (name, age)"
   ]
  },
  {
   "cell_type": "markdown",
   "metadata": {},
   "source": [
    "## Python's `Collections` Module \n",
    "\n",
    "The `collections` module provides specialized container datatypes that can be very helpful."
   ]
  },
  {
   "cell_type": "markdown",
   "metadata": {},
   "source": [
    "### `deque`\n",
    "\n",
    "`deque` is a double-ended Queue\n",
    "\n",
    "Optimized for fast appends and pops from both ends. \n",
    "\n",
    "Great for implementing *queues* and *stacks*"
   ]
  },
  {
   "cell_type": "code",
   "execution_count": null,
   "metadata": {},
   "outputs": [
    {
     "name": "stdout",
     "output_type": "stream",
     "text": [
      "deque([1, 2, 3])\n"
     ]
    }
   ],
   "source": [
    "# ==deque examples==\n",
    "from collections import deque\n",
    "\n",
    "my_deque = deque([1,2,3])\n",
    "\n",
    "my_deque.append(4) # Add to the right (O(1))\n",
    "\n",
    "my_deque.appendleft(0) # Add to the left (O(1))\n",
    "\n",
    "right_element = my_deque.pop() # Remove from the right (O(1))\n",
    "left_element = my_deque.popleft()\n",
    "\n",
    "print(my_deque) # Remove from the left (O(1))"
   ]
  },
  {
   "cell_type": "markdown",
   "metadata": {},
   "source": [
    "### `Counter`\n",
    "\n",
    "A `dict` subclass for counting hashable objects\n",
    "\n",
    "Very useful for frequency counting problems"
   ]
  },
  {
   "cell_type": "code",
   "execution_count": 13,
   "metadata": {},
   "outputs": [
    {
     "name": "stdout",
     "output_type": "stream",
     "text": [
      "7\n",
      "[(3, 7), (4, 4)]\n"
     ]
    }
   ],
   "source": [
    "# ==Counter Examples== \n",
    "from collections import Counter\n",
    "\n",
    "my_list = [1, 2, 2, 3, 3, 3,3,3,3,3, 4, 4, 4, 4]\n",
    "\n",
    "counts = Counter(my_list) # {4: 4, 3: 7, 2: 2, 1: 1}\n",
    "\n",
    "print(counts[3]) # 7 (frequency of 3)\n",
    "\n",
    "most_common = counts.most_common(2) # [(3, 7), (4, 4)] (most common 2 elements)\n",
    "print(most_common)"
   ]
  }
 ],
 "metadata": {
  "kernelspec": {
   "display_name": "d-s-a",
   "language": "python",
   "name": "python3"
  },
  "language_info": {
   "codemirror_mode": {
    "name": "ipython",
    "version": 3
   },
   "file_extension": ".py",
   "mimetype": "text/x-python",
   "name": "python",
   "nbconvert_exporter": "python",
   "pygments_lexer": "ipython3",
   "version": "3.12.7"
  }
 },
 "nbformat": 4,
 "nbformat_minor": 2
}
