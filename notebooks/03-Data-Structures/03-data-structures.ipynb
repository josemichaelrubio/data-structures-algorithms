{
 "cells": [
  {
   "cell_type": "markdown",
   "metadata": {},
   "source": [
    "# Data Structures\n",
    "\n",
    "A Data structure is a collection of values\n",
    "\n",
    "They can have relationships among them \n",
    "\n",
    "They can have funtions applied to them\n",
    "\n",
    "Each data structure is specialized and good at its own thing\n",
    "\n",
    "<https://en.wikipedia.org/wiki/List_of_data_structures>\n",
    "- like Arrays and Objects\n",
    "\n",
    "Things to know:\n",
    "1. How to build one\n",
    "2. how to use it -- This is the most important\n",
    "\n",
    "Important Data Structures:\n",
    "- Arrays\n",
    "- Stacks\n",
    "- Queues\n",
    "- Linked Lists\n",
    "- Trees\n",
    "- Tries\n",
    "- Graphs\n",
    "- Hash Tables\n"
   ]
  },
  {
   "cell_type": "markdown",
   "metadata": {},
   "source": [
    "## Arrays\n",
    "\n",
    "Sometimes called lists\n",
    "\n",
    "Python's calls Arrays `Lists`. They are Dynamic arrays\n",
    "\n",
    "`[]`\n"
   ]
  },
  {
   "cell_type": "code",
   "execution_count": 15,
   "metadata": {},
   "outputs": [
    {
     "name": "stdout",
     "output_type": "stream",
     "text": [
      "[0, 1, 2, 3, 4, 5, 6, 7, 8, 9, 2]\n",
      "[0, 109, 1, 2, 3, 4, 5, 6, 7, 8, 9, 2]\n"
     ]
    },
    {
     "data": {
      "text/plain": [
       "2"
      ]
     },
     "execution_count": 15,
     "metadata": {},
     "output_type": "execute_result"
    }
   ],
   "source": [
    "my_list = [] # Empty List\n",
    "my_list = [1,2,3,\"hello\"] # List with inital elements\n",
    "my_list = list(range(10)) # [0, 1, 2, 3, 4]\n",
    "\n",
    "my_list.append(2) # Add to the end (O(1) amortized)\n",
    "print(my_list) \n",
    "my_list.insert(1, 109) # Insert at index 1 (O(n))\n",
    "print(my_list)\n",
    "my_list.pop() # Remove and return the last element (O(1))\n"
   ]
  },
  {
   "cell_type": "code",
   "execution_count": 16,
   "metadata": {},
   "outputs": [
    {
     "data": {
      "text/plain": [
       "1"
      ]
     },
     "execution_count": 16,
     "metadata": {},
     "output_type": "execute_result"
    }
   ],
   "source": [
    "my_list.pop(2)  # Remove and return element at index 2 (O(n))"
   ]
  },
  {
   "cell_type": "code",
   "execution_count": 17,
   "metadata": {},
   "outputs": [
    {
     "name": "stdout",
     "output_type": "stream",
     "text": [
      "109\n"
     ]
    }
   ],
   "source": [
    "element = my_list[1] # Access element at index 1 (O(1))\n",
    "print(element)"
   ]
  },
  {
   "cell_type": "code",
   "execution_count": 18,
   "metadata": {},
   "outputs": [
    {
     "name": "stdout",
     "output_type": "stream",
     "text": [
      "Found\n"
     ]
    }
   ],
   "source": [
    "if 109 in my_list: # Check if 5 is in the list (O(n)) \n",
    "    print(\"Found\")"
   ]
  },
  {
   "cell_type": "code",
   "execution_count": 19,
   "metadata": {},
   "outputs": [
    {
     "name": "stdout",
     "output_type": "stream",
     "text": [
      "[0, 2, 3, 4, 5, 6, 7, 8, 9]\n"
     ]
    }
   ],
   "source": [
    "my_list.remove(109) #removes the first matching value not the index (O(n))\n",
    "print(my_list)"
   ]
  },
  {
   "cell_type": "code",
   "execution_count": 20,
   "metadata": {},
   "outputs": [
    {
     "name": "stdout",
     "output_type": "stream",
     "text": [
      "[0, 3, 4, 5, 6, 7, 8, 9]\n"
     ]
    }
   ],
   "source": [
    "del my_list[1] #deletes element at specified index (O(n))\n",
    "print(my_list)"
   ]
  },
  {
   "cell_type": "code",
   "execution_count": 21,
   "metadata": {},
   "outputs": [
    {
     "name": "stdout",
     "output_type": "stream",
     "text": [
      "8\n"
     ]
    }
   ],
   "source": [
    "length = len(my_list) # Get the length of the list (O(1))\n",
    "print (length)"
   ]
  },
  {
   "cell_type": "code",
   "execution_count": 22,
   "metadata": {},
   "outputs": [
    {
     "name": "stdout",
     "output_type": "stream",
     "text": [
      "[0, 3, 4, 5, 6, 7, 8, 9]\n"
     ]
    }
   ],
   "source": [
    "my_list.sort() #sort the list in place(O(nlogn))\n",
    "print(my_list)"
   ]
  },
  {
   "cell_type": "code",
   "execution_count": 23,
   "metadata": {},
   "outputs": [
    {
     "name": "stdout",
     "output_type": "stream",
     "text": [
      "[0, 3, 4, 5, 6, 7, 8, 9]\n"
     ]
    }
   ],
   "source": [
    "new_list = sorted(my_list) #returns a new, sorted, list (O(nlogn))\n",
    "print(new_list)"
   ]
  },
  {
   "cell_type": "code",
   "execution_count": 24,
   "metadata": {},
   "outputs": [
    {
     "name": "stdout",
     "output_type": "stream",
     "text": [
      "[9, 8, 7, 6, 5, 4, 3, 0]\n"
     ]
    }
   ],
   "source": [
    "my_list.reverse() #reverses in place (O(n))\n",
    "print(my_list)"
   ]
  },
  {
   "cell_type": "code",
   "execution_count": null,
   "metadata": {},
   "outputs": [
    {
     "name": "stdout",
     "output_type": "stream",
     "text": [
      "[8, 7, 6]\n",
      "[9, 8, 7]\n",
      "[3, 0]\n",
      "[9, 7, 5, 3]\n"
     ]
    }
   ],
   "source": [
    "# Slicing\n",
    "sub_list = my_list[1:4] # [1, 2, 3] (from index 1 up to, but not including, 4)\n",
    "print(sub_list)\n",
    "first_three = my_list[:3]  # [0, 1, 2] (from the beginning up to index 3\n",
    "print(first_three)\n",
    "last_two = my_list[-2:]  # [4, 5] (last two elements)\n",
    "print(last_two)\n",
    "every_other = my_list[::2] # [0, 2, 4] (every second element)\n",
    "print(every_other)\n",
    "reverse_list = my_list[::-1] # Reverse the list (creates a new list)"
   ]
  },
  {
   "cell_type": "markdown",
   "metadata": {},
   "source": [
    "## Tuples\n",
    "\n",
    "Similar to lists, but *immutable* = cannot be changed after creation\n",
    "\n",
    "`()`\n",
    "\n"
   ]
  },
  {
   "cell_type": "code",
   "execution_count": 43,
   "metadata": {},
   "outputs": [
    {
     "name": "stdout",
     "output_type": "stream",
     "text": [
      "()\n",
      "(1, 2, 3)\n",
      "(1, 2, 3)\n",
      "(4,)\n",
      "2\n"
     ]
    }
   ],
   "source": [
    "empty_tuple = ()\n",
    "print(empty_tuple)\n",
    "my_tuple = (1, 2, 3)\n",
    "print(my_tuple)\n",
    "my_tuple = 1, 2, 3  # Parentheses are often optional\n",
    "print(my_tuple)\n",
    "single_element_tuple = (4,)  # Comma is needed for a single-element tuple!\n",
    "print(single_element_tuple)\n",
    "aa = (2) # because single () with , inside makes it an operation ()\n",
    "print(aa)"
   ]
  }
 ],
 "metadata": {
  "kernelspec": {
   "display_name": "d-s-a",
   "language": "python",
   "name": "python3"
  },
  "language_info": {
   "codemirror_mode": {
    "name": "ipython",
    "version": 3
   },
   "file_extension": ".py",
   "mimetype": "text/x-python",
   "name": "python",
   "nbconvert_exporter": "python",
   "pygments_lexer": "ipython3",
   "version": "3.12.7"
  }
 },
 "nbformat": 4,
 "nbformat_minor": 2
}
