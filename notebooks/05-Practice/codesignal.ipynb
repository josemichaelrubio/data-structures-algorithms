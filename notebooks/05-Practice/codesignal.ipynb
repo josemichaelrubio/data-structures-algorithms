{
 "cells": [
  {
   "cell_type": "markdown",
   "metadata": {},
   "source": [
    "# CodeSignal\n",
    "\n",
    "<https://codesignal.com/blog/interview-prep/example-codesignal-questions/>"
   ]
  },
  {
   "cell_type": "markdown",
   "metadata": {},
   "source": [
    "## Array Manipulation\n",
    "\n",
    "Question 1\n",
    "\n",
    "Given an array a, your task is to output an array b of the same length by applying the following transformation: \n",
    "- For each i from 0 to a.length - 1 inclusive, b[i] = a[i - 1] + a[i] + a[i + 1]\n",
    "- If an element in the sum a[i - 1] + a[i] + a[i + 1] does not exist, use 0 in its place\n",
    "- For instance, b[0] = 0 + a[0] + a[1]"
   ]
  },
  {
   "cell_type": "code",
   "execution_count": null,
   "metadata": {},
   "outputs": [],
   "source": []
  }
 ],
 "metadata": {
  "kernelspec": {
   "display_name": "d-s-a",
   "language": "python",
   "name": "python3"
  },
  "language_info": {
   "name": "python",
   "version": "3.12.7"
  }
 },
 "nbformat": 4,
 "nbformat_minor": 2
}
