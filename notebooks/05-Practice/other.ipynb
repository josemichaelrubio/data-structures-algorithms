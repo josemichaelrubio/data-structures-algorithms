{
 "cells": [
  {
   "cell_type": "code",
   "execution_count": 1,
   "metadata": {},
   "outputs": [
    {
     "name": "stdout",
     "output_type": "stream",
     "text": [
      "['Buzz Aldrin 1930', 'Yuri Gagarin 1934', 'Valentina Tereshkova 1937']\n"
     ]
    }
   ],
   "source": [
    "astronauts_data = \"Buzz Aldrin, 1930;Yuri Gagarin, 1934;Valentina Tereshkova, 1937\"\n",
    "\n",
    "# Splitting the string into a list of astronaut info and stripping any whitespace\n",
    "astronauts_list = astronauts_data.split(\";\")\n",
    "cleaned_astronauts = []\n",
    "\n",
    "for astronaut in astronauts_list:\n",
    "    name, year = astronaut.split(\",\")\n",
    "    cleaned_astronauts.append(\" \".join([name.strip(), year.strip()]))  # Modify this line to use the join() method\n",
    "\n",
    "print(cleaned_astronauts)  # ['Buzz Aldrin 1930', 'Yuri Gagarin 1934', 'Valentina Tereshkova 1937']"
   ]
  }
 ],
 "metadata": {
  "kernelspec": {
   "display_name": "d-s-a",
   "language": "python",
   "name": "python3"
  },
  "language_info": {
   "codemirror_mode": {
    "name": "ipython",
    "version": 3
   },
   "file_extension": ".py",
   "mimetype": "text/x-python",
   "name": "python",
   "nbconvert_exporter": "python",
   "pygments_lexer": "ipython3",
   "version": "3.12.7"
  }
 },
 "nbformat": 4,
 "nbformat_minor": 2
}
