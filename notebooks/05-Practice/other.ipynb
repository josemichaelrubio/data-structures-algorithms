{
 "cells": [
  {
   "cell_type": "code",
   "execution_count": 1,
   "metadata": {},
   "outputs": [
    {
     "name": "stdout",
     "output_type": "stream",
     "text": [
      "['Buzz Aldrin 1930', 'Yuri Gagarin 1934', 'Valentina Tereshkova 1937']\n"
     ]
    }
   ],
   "source": [
    "astronauts_data = \"Buzz Aldrin, 1930;Yuri Gagarin, 1934;Valentina Tereshkova, 1937\"\n",
    "\n",
    "# Splitting the string into a list of astronaut info and stripping any whitespace\n",
    "astronauts_list = astronauts_data.split(\";\")\n",
    "cleaned_astronauts = []\n",
    "\n",
    "for astronaut in astronauts_list:\n",
    "    name, year = astronaut.split(\",\")\n",
    "    cleaned_astronauts.append(\" \".join([name.strip(), year.strip()]))  # Modify this line to use the join() method\n",
    "\n",
    "print(cleaned_astronauts)  # ['Buzz Aldrin 1930', 'Yuri Gagarin 1934', 'Valentina Tereshkova 1937']"
   ]
  },
  {
   "cell_type": "code",
   "execution_count": null,
   "metadata": {},
   "outputs": [],
   "source": [
    "astronauts_data = \"Buzz Aldrin, 1930;Yuri Gagarin, 1934;Valentina Tereshkova, 1937\"\n",
    "\n",
    "# Splitting the string into a list of astronaut info and stripping any whitespace\n",
    "astronauts_list = astronauts_data.split(\";\")\n",
    "cleaned_astronauts = []\n",
    "\n",
    "for astronaut in astronauts_list:\n",
    "    name, year = astronaut.split(\",\")\n",
    "    cleaned_astronauts.append(\" \".join([name.strip(), year.strip()]))  # Modify this line to use the join() method\n",
    "\n",
    "print(cleaned_astronauts)  # ['Buzz Aldrin 1930', 'Yuri Gagarin 1934', 'Valentina Tereshkova 1937']"
   ]
  },
  {
   "cell_type": "code",
   "execution_count": null,
   "metadata": {},
   "outputs": [],
   "source": [
    "# TODO: Split the crew_data string into a list of individual crew member information using the appropriate delimiter\n",
    "crew_members = crew_data.split(';')\n",
    "\n",
    "# TODO: Iterate over the list of crew member data\n",
    "for crew in crew_members:\n",
    "    # TODO: For each member, split their data string using commas as delimiters\n",
    "    info = crew.split(',')\n",
    "    first_name = info[0]\n",
    "    last_name = info[1]\n",
    "    mission = info[2]\n",
    "    role = info[3]\n",
    "    # TODO: Print the crew member's details in a formatted string\n",
    "    print(f\"{first_name} {last_name} {mission} {role}\")\n",
    "\n",
    "# Expected output:\n",
    "# Neil Armstrong Apollo 11 C\n",
    "# Buzz Aldrin Apollo 11 P\n",
    "# Michael Collins Apollo 11 CM"
   ]
  },
  {
   "cell_type": "code",
   "execution_count": null,
   "metadata": {},
   "outputs": [],
   "source": []
  }
 ],
 "metadata": {
  "kernelspec": {
   "display_name": "d-s-a",
   "language": "python",
   "name": "python3"
  },
  "language_info": {
   "codemirror_mode": {
    "name": "ipython",
    "version": 3
   },
   "file_extension": ".py",
   "mimetype": "text/x-python",
   "name": "python",
   "nbconvert_exporter": "python",
   "pygments_lexer": "ipython3",
   "version": "3.12.7"
  }
 },
 "nbformat": 4,
 "nbformat_minor": 2
}
