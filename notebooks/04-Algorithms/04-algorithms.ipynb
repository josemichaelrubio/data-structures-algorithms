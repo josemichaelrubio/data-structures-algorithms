{
 "cells": [
  {
   "cell_type": "markdown",
   "metadata": {},
   "source": [
    "# Algorithms"
   ]
  },
  {
   "cell_type": "markdown",
   "metadata": {},
   "source": [
    "## Sorting\n",
    "\n",
    "Python has built-in sorting Algorithms, these implement *Timsort* :\n",
    "- `sorted()`: A function that returnes a new sorted list\n",
    "- `list.sort`: A method that sorts the list in-place\n"
   ]
  },
  {
   "cell_type": "markdown",
   "metadata": {},
   "source": [
    "## Searching\n"
   ]
  },
  {
   "cell_type": "markdown",
   "metadata": {},
   "source": [
    "### Linear \n",
    "\n",
    "Most basic searching, it works by sequentially checking each element in a list until the target element is found or the end of the list is reached"
   ]
  },
  {
   "cell_type": "markdown",
   "metadata": {},
   "source": [
    "#### Time Complexity\n",
    "\n",
    "- **Worst Case: O(n)** - In the worst-case scenario, the target element is at the last position in the list, or not present at all. In this case, you'd have to check every element in the list of size 'n'.\n",
    "- **Best Case: O(1)** - If the target element is found at the very first position, the algorithm completes in constant time.\n",
    "- **Average Case: O(n)** - On average, you might expect to search through half of the list."
   ]
  },
  {
   "cell_type": "markdown",
   "metadata": {},
   "source": [
    "#### Use Cases\n",
    "\n",
    "- **Small Datasets:** Linear search is efficient enough for small lists where the time difference compared to more efficient algorithms is negligible.\n",
    "- **Unsorted Data:** A key advantage of linear search is that it does not require the data to be sorted. It works on any type of list.\n",
    "- **Simplicity:** It's very simple to understand and implement, which can be useful when development time is a constraint, or for educational purposes.\n",
    "- **Finding the First Occurrence:** Linear search naturally finds the first instance of a target value in a list."
   ]
  },
  {
   "cell_type": "markdown",
   "metadata": {},
   "source": [
    "#### Example"
   ]
  },
  {
   "cell_type": "code",
   "execution_count": 3,
   "metadata": {},
   "outputs": [
    {
     "name": "stdout",
     "output_type": "stream",
     "text": [
      "Element is present at index 3\n"
     ]
    }
   ],
   "source": [
    "def linear_search(arr, target):\n",
    "  \"\"\"\n",
    "  Performs linear search on a list to find the target element.\n",
    "\n",
    "  Args:\n",
    "    arr: The list to search within.\n",
    "    target: The element to search for.\n",
    "\n",
    "  Returns:\n",
    "    The index of the target element if found, otherwise -1.\n",
    "  \"\"\"\n",
    "  for index in range(len(arr)):\n",
    "    if arr[index] == target:\n",
    "      return index\n",
    "  return -1\n",
    "\n",
    "# Example usage\n",
    "arr = [20, 64, 75, 29, 40, 36, 78]\n",
    "target = 29\n",
    "result = linear_search(arr, target)\n",
    "if result != -1:\n",
    "  print(f\"Element is present at index {result}\") # Output: Element is present at index 3\n",
    "else:\n",
    "  print(\"Element is not present in list\")"
   ]
  },
  {
   "cell_type": "markdown",
   "metadata": {},
   "source": [
    "### Binary "
   ]
  }
 ],
 "metadata": {
  "kernelspec": {
   "display_name": "d-s-a",
   "language": "python",
   "name": "python3"
  },
  "language_info": {
   "codemirror_mode": {
    "name": "ipython",
    "version": 3
   },
   "file_extension": ".py",
   "mimetype": "text/x-python",
   "name": "python",
   "nbconvert_exporter": "python",
   "pygments_lexer": "ipython3",
   "version": "3.12.7"
  }
 },
 "nbformat": 4,
 "nbformat_minor": 2
}
