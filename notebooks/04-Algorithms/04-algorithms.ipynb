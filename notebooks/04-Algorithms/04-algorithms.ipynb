{
 "cells": [
  {
   "cell_type": "markdown",
   "metadata": {},
   "source": [
    "# Algorithms"
   ]
  },
  {
   "cell_type": "markdown",
   "metadata": {},
   "source": [
    "## Sorting\n",
    "\n",
    "Python has built-in sorting Algorithms, these implement *Timsort* :\n",
    "- `sorted()`: A function that returnes a new sorted list\n",
    "- `list.sort`: A method that sorts the list in-place\n"
   ]
  },
  {
   "cell_type": "markdown",
   "metadata": {},
   "source": [
    "## Searching\n"
   ]
  },
  {
   "cell_type": "markdown",
   "metadata": {},
   "source": [
    "### Linear \n",
    "\n",
    "Most basic searching, it works by sequentially checking each element in a list until the target element is found or the end of the list is reached"
   ]
  },
  {
   "cell_type": "markdown",
   "metadata": {},
   "source": [
    "#### Time Complexity\n",
    "\n",
    "- **Worst Case: O(n)** - In the worst-case scenario, the target element is at the last position in the list, or not present at all. In this case, you'd have to check every element in the list of size 'n'.\n",
    "- **Best Case: O(1)** - If the target element is found at the very first position, the algorithm completes in constant time.\n",
    "- **Average Case: O(n)** - On average, you might expect to search through half of the list."
   ]
  },
  {
   "cell_type": "markdown",
   "metadata": {},
   "source": [
    "#### Use Cases\n",
    "\n",
    "- **Small Datasets:** Linear search is efficient enough for small lists where the time difference compared to more efficient algorithms is negligible.\n",
    "- **Unsorted Data:** A key advantage of linear search is that it does not require the data to be sorted. It works on any type of list.\n",
    "- **Simplicity:** It's very simple to understand and implement, which can be useful when development time is a constraint, or for educational purposes.\n",
    "- **Finding the First Occurrence:** Linear search naturally finds the first instance of a target value in a list."
   ]
  },
  {
   "cell_type": "markdown",
   "metadata": {},
   "source": [
    "#### Example"
   ]
  },
  {
   "cell_type": "code",
   "execution_count": 6,
   "metadata": {},
   "outputs": [
    {
     "name": "stdout",
     "output_type": "stream",
     "text": [
      "Element is present at index 3\n"
     ]
    }
   ],
   "source": [
    "def linear_search(arr, target):\n",
    "  \"\"\"\n",
    "  Performs linear search on a list to find the target element.\n",
    "\n",
    "  Args:\n",
    "    arr: The list to search within.\n",
    "    target: The element to search for.\n",
    "\n",
    "  Returns:\n",
    "    The index of the target element if found, otherwise -1.\n",
    "  \"\"\"\n",
    "  for index in range(len(arr)):\n",
    "    if arr[index] == target:\n",
    "      return index\n",
    "  return -1\n",
    "\n",
    "# Example usage\n",
    "arr = [20, 64, 75, 29, 40, 36, 78]\n",
    "target = 29\n",
    "result = linear_search(arr, target)\n",
    "if result != -1:\n",
    "  print(f\"Element is present at index {result}\") # Output: Element is present at index 3\n",
    "else:\n",
    "  print(\"Element is not present in list\")"
   ]
  },
  {
   "cell_type": "markdown",
   "metadata": {},
   "source": [
    "### Binary \n",
    "\n",
    "List must be sorted\n",
    "\n",
    "It works by repeatedly dividing the search interval in half\n"
   ]
  },
  {
   "cell_type": "markdown",
   "metadata": {},
   "source": [
    "#### How to works\n",
    "1. Start with the entire sorted list as the search interval.\n",
    "2. Find the middle element of the interval.\n",
    "3. Compare the middle element with the target value.\n",
    "    - If the middle element is the target value, the search is successful. Return the index.\n",
    "    - If the target value is less than the middle element, narrow the search interval to the left half of the list (elements before the middle).\n",
    "    - If the target value is greater than the middle element, narrow the search interval to the right half of the list (elements after the middle).\n",
    "4. Repeat steps 2-3 until the target is found or the search interval becomes empty (meaning the target is not in the list)."
   ]
  },
  {
   "cell_type": "markdown",
   "metadata": {},
   "source": [
    "#### Time Complexity\n",
    "\n",
    "- **Worst Case: O(log n)** - Binary search significantly reduces the search space by half in each step. This logarithmic time complexity makes it very efficient for large datasets.\n",
    "- **Best Case: O(1)** - If the target element is the middle element in the first step, the algorithm completes in constant time.\n",
    "- **Average Case: O(log n)** - On average, binary search also has a logarithmic time complexity.\n"
   ]
  },
  {
   "cell_type": "markdown",
   "metadata": {},
   "source": [
    "#### Use Cases\n",
    "\n",
    "- **Large Datasets:** Binary search excels when dealing with large, sorted lists because of its efficiency.\n",
    "- **Sorted Data:** It is ideal when you know your data is already sorted, or when the cost of sorting the data once is offset by many subsequent searches.\n",
    "- **Dictionary/Phonebook Lookups:** As illustrated in the dictionary example, binary search is perfect for scenarios where you need to quickly find an entry in a sorted collection."
   ]
  },
  {
   "cell_type": "markdown",
   "metadata": {},
   "source": [
    "#### Implementation"
   ]
  },
  {
   "cell_type": "markdown",
   "metadata": {},
   "source": [
    "##### Iterative Binary Search"
   ]
  },
  {
   "cell_type": "code",
   "execution_count": 7,
   "metadata": {},
   "outputs": [
    {
     "name": "stdout",
     "output_type": "stream",
     "text": [
      "Element is present at index 7\n"
     ]
    }
   ],
   "source": [
    "def binary_search_iterative(arr, target):\n",
    "    \"\"\"\n",
    "    Performs iterative binary search on a sorted list.\n",
    "\n",
    "    Args:\n",
    "        arr: The sorted list to search within.\n",
    "        target: The element to search for.\n",
    "\n",
    "    Returns:\n",
    "        The index of the target element if found, otherwise -1.\n",
    "  \"\"\"\n",
    "    low = 0\n",
    "    high = len(arr) -1\n",
    "\n",
    "    while low <= high:\n",
    "        mid = (low + high) // 2 # Calculate middle of index\n",
    "        if arr[mid] == target:\n",
    "            return mid # Target found\n",
    "        elif arr[mid] < target:\n",
    "            low = mid + 1 # search in right half\n",
    "        else:\n",
    "            high = mid - 1 #Search in left half\n",
    "    return -1 # Target not found\n",
    "\n",
    "arr = [2, 5, 8, 12, 16, 23, 38, 56, 72, 91] # Sorted array\n",
    "target = 56\n",
    "result = binary_search_iterative(arr, target)\n",
    "if result != -1:\n",
    "  print(f\"Element is present at index {result}\") # Output: Element is present at index 7\n",
    "else:\n",
    "  print(\"Element is not present in list\")\n"
   ]
  },
  {
   "cell_type": "markdown",
   "metadata": {},
   "source": [
    "##### **Recursive Binary Search:**"
   ]
  },
  {
   "cell_type": "code",
   "execution_count": 8,
   "metadata": {},
   "outputs": [
    {
     "name": "stdout",
     "output_type": "stream",
     "text": [
      "Element is present at index 7\n"
     ]
    }
   ],
   "source": [
    "def binary_search_recursive(arr, target, low, high):\n",
    "    \"\"\"\n",
    "    Performs recursive binary search on a sorted list.\n",
    "    Args:\n",
    "        arr: The sorted list to search within.\n",
    "        target: The element to search for.\n",
    "        low: The starting index of the search interval.\n",
    "        high: The ending index of the search interval.\n",
    "\n",
    "    Returns:\n",
    "        The index of the target element if found, otherwise -1.\n",
    "  \"\"\"\n",
    "    if high >=low:\n",
    "        mid = (low + high) // 2\n",
    "        \n",
    "        if arr[mid]== target:\n",
    "            return mid\n",
    "        elif arr[mid] > target:\n",
    "            return binary_search_recursive(arr, target, low, mid - 1) # Search left half\n",
    "        else:\n",
    "            return binary_search_recursive(arr, target, mid + 1, high) # Search right half\n",
    "    else:\n",
    "        return -1 # Target not found\n",
    "    \n",
    "# Example usage\n",
    "arr = [2, 5, 8, 12, 16, 23, 38, 56, 72, 91] # Sorted array\n",
    "target = 56\n",
    "result = binary_search_recursive(arr, target, 0, len(arr)-1)\n",
    "if result != -1:\n",
    "  print(f\"Element is present at index {result}\") # Output: Element is present at index 7\n",
    "else:\n",
    "  print(\"Element is not present in list\")"
   ]
  },
  {
   "cell_type": "markdown",
   "metadata": {},
   "source": []
  }
 ],
 "metadata": {
  "kernelspec": {
   "display_name": "d-s-a",
   "language": "python",
   "name": "python3"
  },
  "language_info": {
   "codemirror_mode": {
    "name": "ipython",
    "version": 3
   },
   "file_extension": ".py",
   "mimetype": "text/x-python",
   "name": "python",
   "nbconvert_exporter": "python",
   "pygments_lexer": "ipython3",
   "version": "3.12.7"
  }
 },
 "nbformat": 4,
 "nbformat_minor": 2
}
