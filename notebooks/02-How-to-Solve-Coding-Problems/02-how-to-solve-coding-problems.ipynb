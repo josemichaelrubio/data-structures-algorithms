{
 "cells": [
  {
   "cell_type": "markdown",
   "metadata": {},
   "source": [
    "# How to Solve Coding Problems\n",
    "\n",
    "## What do Companies look for:\n",
    "\n",
    "- Analytic Skills = thought process in solving a problem\n",
    "- Coding Skills = clean, well organized\n",
    "- Technical Skills = fundamentals, pros and cons of solutions\n",
    "- Communication Skills = does the personality match the company, team\n",
    "\n",
    "Companies want to know if you know how to look for answers, thus knows the fundamentals and how to search for them. Know when to use a Data structure over the other, why use a certein algorithm over the other\n",
    "\n",
    "Know the Why to answer for problem"
   ]
  }
 ],
 "metadata": {
  "kernelspec": {
   "display_name": "d-s-a",
   "language": "python",
   "name": "python3"
  },
  "language_info": {
   "name": "python",
   "version": "3.12.7"
  }
 },
 "nbformat": 4,
 "nbformat_minor": 2
}
