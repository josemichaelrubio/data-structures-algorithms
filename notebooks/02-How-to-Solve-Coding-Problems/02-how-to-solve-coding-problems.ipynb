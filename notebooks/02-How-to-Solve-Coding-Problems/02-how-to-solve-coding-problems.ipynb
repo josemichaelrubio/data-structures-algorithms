{
 "cells": [
  {
   "cell_type": "markdown",
   "metadata": {},
   "source": [
    "# How to Solve Coding Problems\n",
    "\n",
    "<https://coggle.it/diagram/W5E5tqYlrXvFJPsq/t/master-the-interview-click-here-for-course-link/c25f98c73a03f5b1107cd0e2f4bce29c9d78e31655e55cb0b785>\n",
    "\n",
    "## What do Companies look for:\n",
    "\n",
    "- Analytic Skills = thought process in solving a problem\n",
    "- Coding Skills = clean, well organized\n",
    "- Technical Skills = fundamentals, pros and cons of solutions\n",
    "- Communication Skills = does the personality match the company, team\n",
    "\n",
    "Companies want to know if you know how to look for answers, thus knows the fundamentals and how to search for them. Know when to use a Data structure over the other, why use a certein algorithm over the other\n",
    "\n",
    "Know the Why to answer for problem"
   ]
  },
  {
   "cell_type": "markdown",
   "metadata": {},
   "source": [
    "## Core things to know\n",
    "\n",
    "When and why to use them, how to implement them, how to solve problems with them.\n",
    "\n",
    "There are more than the following, these are the basics:\n",
    "\n",
    "### Data Structures\n",
    "\n",
    "- Arrays\n",
    "- Stacks\n",
    "- Queues\n",
    "- Linked Lists\n",
    "- Trees\n",
    "- Tries\n",
    "- Graphs\n",
    "- Hash Tables\n",
    "\n",
    "### Algorithms\n",
    "\n",
    "- Sorting\n",
    "- Dynamic Programming\n",
    "- BFS + DFS (Searching)\n",
    "- Recursion"
   ]
  },
  {
   "cell_type": "markdown",
   "metadata": {},
   "source": [
    "## Google Interview \n",
    "\n",
    "Watch: <https://www.youtube.com/watch?v=XKu_SEDAykw>\n",
    "\n",
    "then: use [Interview CheatSheet](notebooks/02-How-to-Solve-Coding-Problems/Interview-cheatsheet.pdf) to solve the problem step by step\n"
   ]
  }
 ],
 "metadata": {
  "kernelspec": {
   "display_name": "d-s-a",
   "language": "python",
   "name": "python3"
  },
  "language_info": {
   "name": "python",
   "version": "3.12.7"
  }
 },
 "nbformat": 4,
 "nbformat_minor": 2
}
